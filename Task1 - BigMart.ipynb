{
 "cells": [
  {
   "cell_type": "markdown",
   "id": "991cf920",
   "metadata": {},
   "source": [
    "# Task-1 Big Mart\n",
    "- Exploratory Data Analysis\n",
    "- Predictive modle to predict the sales of each product at a proper outlet\n",
    "- Buying pattern of customers in their respective cities/outlets"
   ]
  },
  {
   "cell_type": "markdown",
   "id": "1e37b2bb",
   "metadata": {},
   "source": [
    "## 1. Exploratory Data Analysis"
   ]
  },
  {
   "cell_type": "markdown",
   "id": "71968f20",
   "metadata": {},
   "source": [
    "**Importing Libraries**"
   ]
  },
  {
   "cell_type": "code",
   "execution_count": 1,
   "id": "bfa1584a",
   "metadata": {},
   "outputs": [],
   "source": [
    "import numpy as np\n",
    "import pandas as pd\n",
    "import seaborn as sns  # Visual Representation\n",
    "import matplotlib.pyplot as plt"
   ]
  },
  {
   "cell_type": "markdown",
   "id": "4b2e60a9",
   "metadata": {},
   "source": [
    "**Loading the testing (test.csv) and training (train.csv) data stored inside the folder 'data'.**"
   ]
  },
  {
   "cell_type": "code",
   "execution_count": 2,
   "id": "abcaa3c7",
   "metadata": {},
   "outputs": [],
   "source": [
    "data = pd.read_csv(\"./data/train.csv\")"
   ]
  },
  {
   "cell_type": "markdown",
   "id": "62eb4a55",
   "metadata": {},
   "source": [
    "***Understanding the dataset***"
   ]
  },
  {
   "cell_type": "markdown",
   "id": "3bd0c505",
   "metadata": {},
   "source": [
    "**1. Observing the first five rows of the dataset**"
   ]
  },
  {
   "cell_type": "code",
   "execution_count": 3,
   "id": "b4c92f7d",
   "metadata": {},
   "outputs": [
    {
     "data": {
      "text/html": [
       "<div>\n",
       "<style scoped>\n",
       "    .dataframe tbody tr th:only-of-type {\n",
       "        vertical-align: middle;\n",
       "    }\n",
       "\n",
       "    .dataframe tbody tr th {\n",
       "        vertical-align: top;\n",
       "    }\n",
       "\n",
       "    .dataframe thead th {\n",
       "        text-align: right;\n",
       "    }\n",
       "</style>\n",
       "<table border=\"1\" class=\"dataframe\">\n",
       "  <thead>\n",
       "    <tr style=\"text-align: right;\">\n",
       "      <th></th>\n",
       "      <th>Item_Identifier</th>\n",
       "      <th>Item_Weight</th>\n",
       "      <th>Item_Fat_Content</th>\n",
       "      <th>Item_Visibility</th>\n",
       "      <th>Item_Type</th>\n",
       "      <th>Item_MRP</th>\n",
       "      <th>Outlet_Identifier</th>\n",
       "      <th>Outlet_Establishment_Year</th>\n",
       "      <th>Outlet_Size</th>\n",
       "      <th>Outlet_Location_Type</th>\n",
       "      <th>Outlet_Type</th>\n",
       "      <th>Item_Outlet_Sales</th>\n",
       "    </tr>\n",
       "  </thead>\n",
       "  <tbody>\n",
       "    <tr>\n",
       "      <th>0</th>\n",
       "      <td>FDA15</td>\n",
       "      <td>9.30</td>\n",
       "      <td>Low Fat</td>\n",
       "      <td>0.016047</td>\n",
       "      <td>Dairy</td>\n",
       "      <td>249.8092</td>\n",
       "      <td>OUT049</td>\n",
       "      <td>1999</td>\n",
       "      <td>Medium</td>\n",
       "      <td>Tier 1</td>\n",
       "      <td>Supermarket Type1</td>\n",
       "      <td>3735.1380</td>\n",
       "    </tr>\n",
       "    <tr>\n",
       "      <th>1</th>\n",
       "      <td>DRC01</td>\n",
       "      <td>5.92</td>\n",
       "      <td>Regular</td>\n",
       "      <td>0.019278</td>\n",
       "      <td>Soft Drinks</td>\n",
       "      <td>48.2692</td>\n",
       "      <td>OUT018</td>\n",
       "      <td>2009</td>\n",
       "      <td>Medium</td>\n",
       "      <td>Tier 3</td>\n",
       "      <td>Supermarket Type2</td>\n",
       "      <td>443.4228</td>\n",
       "    </tr>\n",
       "    <tr>\n",
       "      <th>2</th>\n",
       "      <td>FDN15</td>\n",
       "      <td>17.50</td>\n",
       "      <td>Low Fat</td>\n",
       "      <td>0.016760</td>\n",
       "      <td>Meat</td>\n",
       "      <td>141.6180</td>\n",
       "      <td>OUT049</td>\n",
       "      <td>1999</td>\n",
       "      <td>Medium</td>\n",
       "      <td>Tier 1</td>\n",
       "      <td>Supermarket Type1</td>\n",
       "      <td>2097.2700</td>\n",
       "    </tr>\n",
       "    <tr>\n",
       "      <th>3</th>\n",
       "      <td>FDX07</td>\n",
       "      <td>19.20</td>\n",
       "      <td>Regular</td>\n",
       "      <td>0.000000</td>\n",
       "      <td>Fruits and Vegetables</td>\n",
       "      <td>182.0950</td>\n",
       "      <td>OUT010</td>\n",
       "      <td>1998</td>\n",
       "      <td>NaN</td>\n",
       "      <td>Tier 3</td>\n",
       "      <td>Grocery Store</td>\n",
       "      <td>732.3800</td>\n",
       "    </tr>\n",
       "    <tr>\n",
       "      <th>4</th>\n",
       "      <td>NCD19</td>\n",
       "      <td>8.93</td>\n",
       "      <td>Low Fat</td>\n",
       "      <td>0.000000</td>\n",
       "      <td>Household</td>\n",
       "      <td>53.8614</td>\n",
       "      <td>OUT013</td>\n",
       "      <td>1987</td>\n",
       "      <td>High</td>\n",
       "      <td>Tier 3</td>\n",
       "      <td>Supermarket Type1</td>\n",
       "      <td>994.7052</td>\n",
       "    </tr>\n",
       "  </tbody>\n",
       "</table>\n",
       "</div>"
      ],
      "text/plain": [
       "  Item_Identifier  Item_Weight Item_Fat_Content  Item_Visibility  \\\n",
       "0           FDA15         9.30          Low Fat         0.016047   \n",
       "1           DRC01         5.92          Regular         0.019278   \n",
       "2           FDN15        17.50          Low Fat         0.016760   \n",
       "3           FDX07        19.20          Regular         0.000000   \n",
       "4           NCD19         8.93          Low Fat         0.000000   \n",
       "\n",
       "               Item_Type  Item_MRP Outlet_Identifier  \\\n",
       "0                  Dairy  249.8092            OUT049   \n",
       "1            Soft Drinks   48.2692            OUT018   \n",
       "2                   Meat  141.6180            OUT049   \n",
       "3  Fruits and Vegetables  182.0950            OUT010   \n",
       "4              Household   53.8614            OUT013   \n",
       "\n",
       "   Outlet_Establishment_Year Outlet_Size Outlet_Location_Type  \\\n",
       "0                       1999      Medium               Tier 1   \n",
       "1                       2009      Medium               Tier 3   \n",
       "2                       1999      Medium               Tier 1   \n",
       "3                       1998         NaN               Tier 3   \n",
       "4                       1987        High               Tier 3   \n",
       "\n",
       "         Outlet_Type  Item_Outlet_Sales  \n",
       "0  Supermarket Type1          3735.1380  \n",
       "1  Supermarket Type2           443.4228  \n",
       "2  Supermarket Type1          2097.2700  \n",
       "3      Grocery Store           732.3800  \n",
       "4  Supermarket Type1           994.7052  "
      ]
     },
     "execution_count": 3,
     "metadata": {},
     "output_type": "execute_result"
    }
   ],
   "source": [
    "data.head()"
   ]
  },
  {
   "cell_type": "markdown",
   "id": "283e3820",
   "metadata": {},
   "source": [
    "**2. Observing the last five rows of the datset**"
   ]
  },
  {
   "cell_type": "code",
   "execution_count": 4,
   "id": "ba625321",
   "metadata": {},
   "outputs": [
    {
     "data": {
      "text/html": [
       "<div>\n",
       "<style scoped>\n",
       "    .dataframe tbody tr th:only-of-type {\n",
       "        vertical-align: middle;\n",
       "    }\n",
       "\n",
       "    .dataframe tbody tr th {\n",
       "        vertical-align: top;\n",
       "    }\n",
       "\n",
       "    .dataframe thead th {\n",
       "        text-align: right;\n",
       "    }\n",
       "</style>\n",
       "<table border=\"1\" class=\"dataframe\">\n",
       "  <thead>\n",
       "    <tr style=\"text-align: right;\">\n",
       "      <th></th>\n",
       "      <th>Item_Identifier</th>\n",
       "      <th>Item_Weight</th>\n",
       "      <th>Item_Fat_Content</th>\n",
       "      <th>Item_Visibility</th>\n",
       "      <th>Item_Type</th>\n",
       "      <th>Item_MRP</th>\n",
       "      <th>Outlet_Identifier</th>\n",
       "      <th>Outlet_Establishment_Year</th>\n",
       "      <th>Outlet_Size</th>\n",
       "      <th>Outlet_Location_Type</th>\n",
       "      <th>Outlet_Type</th>\n",
       "      <th>Item_Outlet_Sales</th>\n",
       "    </tr>\n",
       "  </thead>\n",
       "  <tbody>\n",
       "    <tr>\n",
       "      <th>8518</th>\n",
       "      <td>FDF22</td>\n",
       "      <td>6.865</td>\n",
       "      <td>Low Fat</td>\n",
       "      <td>0.056783</td>\n",
       "      <td>Snack Foods</td>\n",
       "      <td>214.5218</td>\n",
       "      <td>OUT013</td>\n",
       "      <td>1987</td>\n",
       "      <td>High</td>\n",
       "      <td>Tier 3</td>\n",
       "      <td>Supermarket Type1</td>\n",
       "      <td>2778.3834</td>\n",
       "    </tr>\n",
       "    <tr>\n",
       "      <th>8519</th>\n",
       "      <td>FDS36</td>\n",
       "      <td>8.380</td>\n",
       "      <td>Regular</td>\n",
       "      <td>0.046982</td>\n",
       "      <td>Baking Goods</td>\n",
       "      <td>108.1570</td>\n",
       "      <td>OUT045</td>\n",
       "      <td>2002</td>\n",
       "      <td>NaN</td>\n",
       "      <td>Tier 2</td>\n",
       "      <td>Supermarket Type1</td>\n",
       "      <td>549.2850</td>\n",
       "    </tr>\n",
       "    <tr>\n",
       "      <th>8520</th>\n",
       "      <td>NCJ29</td>\n",
       "      <td>10.600</td>\n",
       "      <td>Low Fat</td>\n",
       "      <td>0.035186</td>\n",
       "      <td>Health and Hygiene</td>\n",
       "      <td>85.1224</td>\n",
       "      <td>OUT035</td>\n",
       "      <td>2004</td>\n",
       "      <td>Small</td>\n",
       "      <td>Tier 2</td>\n",
       "      <td>Supermarket Type1</td>\n",
       "      <td>1193.1136</td>\n",
       "    </tr>\n",
       "    <tr>\n",
       "      <th>8521</th>\n",
       "      <td>FDN46</td>\n",
       "      <td>7.210</td>\n",
       "      <td>Regular</td>\n",
       "      <td>0.145221</td>\n",
       "      <td>Snack Foods</td>\n",
       "      <td>103.1332</td>\n",
       "      <td>OUT018</td>\n",
       "      <td>2009</td>\n",
       "      <td>Medium</td>\n",
       "      <td>Tier 3</td>\n",
       "      <td>Supermarket Type2</td>\n",
       "      <td>1845.5976</td>\n",
       "    </tr>\n",
       "    <tr>\n",
       "      <th>8522</th>\n",
       "      <td>DRG01</td>\n",
       "      <td>14.800</td>\n",
       "      <td>Low Fat</td>\n",
       "      <td>0.044878</td>\n",
       "      <td>Soft Drinks</td>\n",
       "      <td>75.4670</td>\n",
       "      <td>OUT046</td>\n",
       "      <td>1997</td>\n",
       "      <td>Small</td>\n",
       "      <td>Tier 1</td>\n",
       "      <td>Supermarket Type1</td>\n",
       "      <td>765.6700</td>\n",
       "    </tr>\n",
       "  </tbody>\n",
       "</table>\n",
       "</div>"
      ],
      "text/plain": [
       "     Item_Identifier  Item_Weight Item_Fat_Content  Item_Visibility  \\\n",
       "8518           FDF22        6.865          Low Fat         0.056783   \n",
       "8519           FDS36        8.380          Regular         0.046982   \n",
       "8520           NCJ29       10.600          Low Fat         0.035186   \n",
       "8521           FDN46        7.210          Regular         0.145221   \n",
       "8522           DRG01       14.800          Low Fat         0.044878   \n",
       "\n",
       "               Item_Type  Item_MRP Outlet_Identifier  \\\n",
       "8518         Snack Foods  214.5218            OUT013   \n",
       "8519        Baking Goods  108.1570            OUT045   \n",
       "8520  Health and Hygiene   85.1224            OUT035   \n",
       "8521         Snack Foods  103.1332            OUT018   \n",
       "8522         Soft Drinks   75.4670            OUT046   \n",
       "\n",
       "      Outlet_Establishment_Year Outlet_Size Outlet_Location_Type  \\\n",
       "8518                       1987        High               Tier 3   \n",
       "8519                       2002         NaN               Tier 2   \n",
       "8520                       2004       Small               Tier 2   \n",
       "8521                       2009      Medium               Tier 3   \n",
       "8522                       1997       Small               Tier 1   \n",
       "\n",
       "            Outlet_Type  Item_Outlet_Sales  \n",
       "8518  Supermarket Type1          2778.3834  \n",
       "8519  Supermarket Type1           549.2850  \n",
       "8520  Supermarket Type1          1193.1136  \n",
       "8521  Supermarket Type2          1845.5976  \n",
       "8522  Supermarket Type1           765.6700  "
      ]
     },
     "execution_count": 4,
     "metadata": {},
     "output_type": "execute_result"
    }
   ],
   "source": [
    "data.tail()"
   ]
  },
  {
   "cell_type": "markdown",
   "id": "b1106f55",
   "metadata": {},
   "source": [
    "**3. Shape of the data i.e. number of rows and columns**"
   ]
  },
  {
   "cell_type": "code",
   "execution_count": 5,
   "id": "68174ecb",
   "metadata": {},
   "outputs": [
    {
     "data": {
      "text/plain": [
       "(8523, 12)"
      ]
     },
     "execution_count": 5,
     "metadata": {},
     "output_type": "execute_result"
    }
   ],
   "source": [
    "data.shape"
   ]
  },
  {
   "cell_type": "markdown",
   "id": "3e4367c8",
   "metadata": {},
   "source": [
    "**4. Quick Summary of the dataset**"
   ]
  },
  {
   "cell_type": "code",
   "execution_count": 6,
   "id": "a5e68f57",
   "metadata": {},
   "outputs": [
    {
     "data": {
      "text/html": [
       "<div>\n",
       "<style scoped>\n",
       "    .dataframe tbody tr th:only-of-type {\n",
       "        vertical-align: middle;\n",
       "    }\n",
       "\n",
       "    .dataframe tbody tr th {\n",
       "        vertical-align: top;\n",
       "    }\n",
       "\n",
       "    .dataframe thead th {\n",
       "        text-align: right;\n",
       "    }\n",
       "</style>\n",
       "<table border=\"1\" class=\"dataframe\">\n",
       "  <thead>\n",
       "    <tr style=\"text-align: right;\">\n",
       "      <th></th>\n",
       "      <th>Item_Weight</th>\n",
       "      <th>Item_Visibility</th>\n",
       "      <th>Item_MRP</th>\n",
       "      <th>Outlet_Establishment_Year</th>\n",
       "      <th>Item_Outlet_Sales</th>\n",
       "    </tr>\n",
       "  </thead>\n",
       "  <tbody>\n",
       "    <tr>\n",
       "      <th>count</th>\n",
       "      <td>7060.000000</td>\n",
       "      <td>8523.000000</td>\n",
       "      <td>8523.000000</td>\n",
       "      <td>8523.000000</td>\n",
       "      <td>8523.000000</td>\n",
       "    </tr>\n",
       "    <tr>\n",
       "      <th>mean</th>\n",
       "      <td>12.857645</td>\n",
       "      <td>0.066132</td>\n",
       "      <td>140.992782</td>\n",
       "      <td>1997.831867</td>\n",
       "      <td>2181.288914</td>\n",
       "    </tr>\n",
       "    <tr>\n",
       "      <th>std</th>\n",
       "      <td>4.643456</td>\n",
       "      <td>0.051598</td>\n",
       "      <td>62.275067</td>\n",
       "      <td>8.371760</td>\n",
       "      <td>1706.499616</td>\n",
       "    </tr>\n",
       "    <tr>\n",
       "      <th>min</th>\n",
       "      <td>4.555000</td>\n",
       "      <td>0.000000</td>\n",
       "      <td>31.290000</td>\n",
       "      <td>1985.000000</td>\n",
       "      <td>33.290000</td>\n",
       "    </tr>\n",
       "    <tr>\n",
       "      <th>25%</th>\n",
       "      <td>8.773750</td>\n",
       "      <td>0.026989</td>\n",
       "      <td>93.826500</td>\n",
       "      <td>1987.000000</td>\n",
       "      <td>834.247400</td>\n",
       "    </tr>\n",
       "    <tr>\n",
       "      <th>50%</th>\n",
       "      <td>12.600000</td>\n",
       "      <td>0.053931</td>\n",
       "      <td>143.012800</td>\n",
       "      <td>1999.000000</td>\n",
       "      <td>1794.331000</td>\n",
       "    </tr>\n",
       "    <tr>\n",
       "      <th>75%</th>\n",
       "      <td>16.850000</td>\n",
       "      <td>0.094585</td>\n",
       "      <td>185.643700</td>\n",
       "      <td>2004.000000</td>\n",
       "      <td>3101.296400</td>\n",
       "    </tr>\n",
       "    <tr>\n",
       "      <th>max</th>\n",
       "      <td>21.350000</td>\n",
       "      <td>0.328391</td>\n",
       "      <td>266.888400</td>\n",
       "      <td>2009.000000</td>\n",
       "      <td>13086.964800</td>\n",
       "    </tr>\n",
       "  </tbody>\n",
       "</table>\n",
       "</div>"
      ],
      "text/plain": [
       "       Item_Weight  Item_Visibility     Item_MRP  Outlet_Establishment_Year  \\\n",
       "count  7060.000000      8523.000000  8523.000000                8523.000000   \n",
       "mean     12.857645         0.066132   140.992782                1997.831867   \n",
       "std       4.643456         0.051598    62.275067                   8.371760   \n",
       "min       4.555000         0.000000    31.290000                1985.000000   \n",
       "25%       8.773750         0.026989    93.826500                1987.000000   \n",
       "50%      12.600000         0.053931   143.012800                1999.000000   \n",
       "75%      16.850000         0.094585   185.643700                2004.000000   \n",
       "max      21.350000         0.328391   266.888400                2009.000000   \n",
       "\n",
       "       Item_Outlet_Sales  \n",
       "count        8523.000000  \n",
       "mean         2181.288914  \n",
       "std          1706.499616  \n",
       "min            33.290000  \n",
       "25%           834.247400  \n",
       "50%          1794.331000  \n",
       "75%          3101.296400  \n",
       "max         13086.964800  "
      ]
     },
     "execution_count": 6,
     "metadata": {},
     "output_type": "execute_result"
    }
   ],
   "source": [
    "data.describe()"
   ]
  },
  {
   "cell_type": "markdown",
   "id": "3a157ce9",
   "metadata": {},
   "source": [
    "**5. Getting the basic info about the dataset like colums, non-null values and data type of the columns**"
   ]
  },
  {
   "cell_type": "code",
   "execution_count": 7,
   "id": "e494004a",
   "metadata": {},
   "outputs": [
    {
     "name": "stdout",
     "output_type": "stream",
     "text": [
      "<class 'pandas.core.frame.DataFrame'>\n",
      "RangeIndex: 8523 entries, 0 to 8522\n",
      "Data columns (total 12 columns):\n",
      " #   Column                     Non-Null Count  Dtype  \n",
      "---  ------                     --------------  -----  \n",
      " 0   Item_Identifier            8523 non-null   object \n",
      " 1   Item_Weight                7060 non-null   float64\n",
      " 2   Item_Fat_Content           8523 non-null   object \n",
      " 3   Item_Visibility            8523 non-null   float64\n",
      " 4   Item_Type                  8523 non-null   object \n",
      " 5   Item_MRP                   8523 non-null   float64\n",
      " 6   Outlet_Identifier          8523 non-null   object \n",
      " 7   Outlet_Establishment_Year  8523 non-null   int64  \n",
      " 8   Outlet_Size                6113 non-null   object \n",
      " 9   Outlet_Location_Type       8523 non-null   object \n",
      " 10  Outlet_Type                8523 non-null   object \n",
      " 11  Item_Outlet_Sales          8523 non-null   float64\n",
      "dtypes: float64(4), int64(1), object(7)\n",
      "memory usage: 799.2+ KB\n"
     ]
    }
   ],
   "source": [
    "data.info()"
   ]
  },
  {
   "cell_type": "markdown",
   "id": "4498f957",
   "metadata": {},
   "source": [
    "**6. Getting the number of unique values from each columns**"
   ]
  },
  {
   "cell_type": "code",
   "execution_count": 8,
   "id": "66959c8e",
   "metadata": {},
   "outputs": [
    {
     "data": {
      "text/plain": [
       "Item_Identifier              1559\n",
       "Item_Weight                   415\n",
       "Item_Fat_Content                5\n",
       "Item_Visibility              7880\n",
       "Item_Type                      16\n",
       "Item_MRP                     5938\n",
       "Outlet_Identifier              10\n",
       "Outlet_Establishment_Year       9\n",
       "Outlet_Size                     3\n",
       "Outlet_Location_Type            3\n",
       "Outlet_Type                     4\n",
       "Item_Outlet_Sales            3493\n",
       "dtype: int64"
      ]
     },
     "execution_count": 8,
     "metadata": {},
     "output_type": "execute_result"
    }
   ],
   "source": [
    "data.nunique()"
   ]
  },
  {
   "cell_type": "code",
   "execution_count": 9,
   "id": "2335cb1b",
   "metadata": {},
   "outputs": [
    {
     "name": "stdout",
     "output_type": "stream",
     "text": [
      "Item Fat Content :  ['Low Fat' 'Regular' 'low fat' 'LF' 'reg'] \n",
      "\n",
      "Item Type :  ['Dairy' 'Soft Drinks' 'Meat' 'Fruits and Vegetables' 'Household'\n",
      " 'Baking Goods' 'Snack Foods' 'Frozen Foods' 'Breakfast'\n",
      " 'Health and Hygiene' 'Hard Drinks' 'Canned' 'Breads' 'Starchy Foods'\n",
      " 'Others' 'Seafood'] \n",
      "\n",
      "Outlet Identifier :  ['OUT049' 'OUT018' 'OUT010' 'OUT013' 'OUT027' 'OUT045' 'OUT017' 'OUT046'\n",
      " 'OUT035' 'OUT019'] \n",
      "\n",
      "Outlet Establishment Year :  [1999 2009 1998 1987 1985 2002 2007 1997 2004] \n",
      "\n",
      "Outlet Size :  ['Medium' nan 'High' 'Small'] \n",
      "\n",
      "Outlet Location Type :  ['Tier 1' 'Tier 3' 'Tier 2'] \n",
      "\n",
      "Outlet Type :  ['Supermarket Type1' 'Supermarket Type2' 'Grocery Store'\n",
      " 'Supermarket Type3'] \n",
      "\n"
     ]
    }
   ],
   "source": [
    "# Printing unique values of some of the selected columns\n",
    "print(\"Item Fat Content : \", data['Item_Fat_Content'].unique(), \"\\n\")\n",
    "print(\"Item Type : \", data['Item_Type'].unique(), \"\\n\")\n",
    "print(\"Outlet Identifier : \", data['Outlet_Identifier'].unique(), \"\\n\")\n",
    "print(\"Outlet Establishment Year : \", data['Outlet_Establishment_Year'].unique(), \"\\n\")\n",
    "print(\"Outlet Size : \", data['Outlet_Size'].unique(), \"\\n\")\n",
    "print(\"Outlet Location Type : \", data['Outlet_Location_Type'].unique(), \"\\n\")\n",
    "print(\"Outlet Type : \", data['Outlet_Type'].unique(), \"\\n\")"
   ]
  },
  {
   "cell_type": "markdown",
   "id": "826f1e2c",
   "metadata": {},
   "source": [
    "***Cleaning the Data***"
   ]
  },
  {
   "cell_type": "markdown",
   "id": "54941ba0",
   "metadata": {},
   "source": [
    "**1.Checking if the dataset has missing values**"
   ]
  },
  {
   "cell_type": "code",
   "execution_count": 10,
   "id": "bbd3500b",
   "metadata": {},
   "outputs": [
    {
     "data": {
      "text/plain": [
       "Item_Identifier                 0\n",
       "Item_Weight                  1463\n",
       "Item_Fat_Content                0\n",
       "Item_Visibility                 0\n",
       "Item_Type                       0\n",
       "Item_MRP                        0\n",
       "Outlet_Identifier               0\n",
       "Outlet_Establishment_Year       0\n",
       "Outlet_Size                  2410\n",
       "Outlet_Location_Type            0\n",
       "Outlet_Type                     0\n",
       "Item_Outlet_Sales               0\n",
       "dtype: int64"
      ]
     },
     "execution_count": 10,
     "metadata": {},
     "output_type": "execute_result"
    }
   ],
   "source": [
    "data.isnull().sum()"
   ]
  },
  {
   "cell_type": "markdown",
   "id": "591a6299",
   "metadata": {},
   "source": [
    "**2. Dropping the rows containing missing data**"
   ]
  },
  {
   "cell_type": "code",
   "execution_count": 11,
   "id": "ef884f57",
   "metadata": {},
   "outputs": [
    {
     "name": "stdout",
     "output_type": "stream",
     "text": [
      "Item_Identifier              0\n",
      "Item_Weight                  0\n",
      "Item_Fat_Content             0\n",
      "Item_Visibility              0\n",
      "Item_Type                    0\n",
      "Item_MRP                     0\n",
      "Outlet_Identifier            0\n",
      "Outlet_Establishment_Year    0\n",
      "Outlet_Size                  0\n",
      "Outlet_Location_Type         0\n",
      "Outlet_Type                  0\n",
      "Item_Outlet_Sales            0\n",
      "dtype: int64\n",
      "\n",
      "Rows Removed 3873\n",
      "New Shape :  (4650, 12)\n"
     ]
    }
   ],
   "source": [
    "initial_rows = data.shape[0]  # Initial count of rows\n",
    "data = data.dropna(axis=0, how='any')\n",
    "# axis=0 -> Dropping rows having null values\n",
    "# axis=1 -> Dropping columns having null values\n",
    "# how=\"any\" -> Drop the row/column if it has at least one or more null values\n",
    "# how=\"all\" -> Drop the row/column only if all the values are null values\n",
    "\n",
    "print(data.isnull().sum())  # Checking the count of null values\n",
    "final_rows = data.shape[0]  # count of rows after cleaning\n",
    "print(\"\\nRows Removed\", initial_rows-final_rows) # Printing the number of rows removed\n",
    "print(\"New Shape : \", data.shape) # Printing the new shape of the dataset"
   ]
  },
  {
   "cell_type": "markdown",
   "id": "3cfab8ab",
   "metadata": {},
   "source": [
    "**3. Removing Columns which we don't require**"
   ]
  },
  {
   "cell_type": "code",
   "execution_count": 12,
   "id": "aa3054b5",
   "metadata": {},
   "outputs": [
    {
     "name": "stdout",
     "output_type": "stream",
     "text": [
      "Columns Removed 2\n",
      "New Shape :  (4650, 10) \n",
      "\n",
      "<class 'pandas.core.frame.DataFrame'>\n",
      "Int64Index: 4650 entries, 0 to 8522\n",
      "Data columns (total 10 columns):\n",
      " #   Column                     Non-Null Count  Dtype  \n",
      "---  ------                     --------------  -----  \n",
      " 0   Item_Weight                4650 non-null   float64\n",
      " 1   Item_Fat_Content           4650 non-null   object \n",
      " 2   Item_Visibility            4650 non-null   float64\n",
      " 3   Item_Type                  4650 non-null   object \n",
      " 4   Item_MRP                   4650 non-null   float64\n",
      " 5   Outlet_Establishment_Year  4650 non-null   int64  \n",
      " 6   Outlet_Size                4650 non-null   object \n",
      " 7   Outlet_Location_Type       4650 non-null   object \n",
      " 8   Outlet_Type                4650 non-null   object \n",
      " 9   Item_Outlet_Sales          4650 non-null   float64\n",
      "dtypes: float64(4), int64(1), object(5)\n",
      "memory usage: 399.6+ KB\n"
     ]
    }
   ],
   "source": [
    "initial_columns = data.shape[1]  # Initial count of colums\n",
    "data = data.drop([\"Item_Identifier\", \"Outlet_Identifier\"], axis=1)\n",
    "# axis=0 -> Dropping rows\n",
    "# axis=1 -> Dropping columns\n",
    "\n",
    "final_columns = data.shape[1]  # count of columns after removing\n",
    "print(\"Columns Removed\", initial_columns-final_columns) # Printing the number of columns removed\n",
    "print(\"New Shape : \", data.shape, \"\\n\") # Printing the new shape of the dataset\n",
    "data.info() # Checking if the columns were removed or not"
   ]
  },
  {
   "cell_type": "markdown",
   "id": "dff78500",
   "metadata": {},
   "source": [
    "**4. Assigning all object datatype dummy int values**"
   ]
  },
  {
   "cell_type": "code",
   "execution_count": 13,
   "id": "f769e33e",
   "metadata": {},
   "outputs": [
    {
     "name": "stdout",
     "output_type": "stream",
     "text": [
      "{'Low Fat': 0, 'Regular': 1, 'low fat': 2, 'reg': 3, 'LF': 4} \n",
      "\n",
      "{'Dairy': 0, 'Soft Drinks': 1, 'Meat': 2, 'Household': 3, 'Baking Goods': 4, 'Snack Foods': 5, 'Fruits and Vegetables': 6, 'Breakfast': 7, 'Health and Hygiene': 8, 'Frozen Foods': 9, 'Hard Drinks': 10, 'Canned': 11, 'Starchy Foods': 12, 'Breads': 13, 'Others': 14, 'Seafood': 15} \n",
      "\n",
      "{'Medium': 0, 'High': 1, 'Small': 2} \n",
      "\n",
      "{'Tier 1': 0, 'Tier 3': 1, 'Tier 2': 2} \n",
      "\n",
      "{'Supermarket Type1': 0, 'Supermarket Type2': 1} \n",
      "\n"
     ]
    },
    {
     "data": {
      "text/html": [
       "<div>\n",
       "<style scoped>\n",
       "    .dataframe tbody tr th:only-of-type {\n",
       "        vertical-align: middle;\n",
       "    }\n",
       "\n",
       "    .dataframe tbody tr th {\n",
       "        vertical-align: top;\n",
       "    }\n",
       "\n",
       "    .dataframe thead th {\n",
       "        text-align: right;\n",
       "    }\n",
       "</style>\n",
       "<table border=\"1\" class=\"dataframe\">\n",
       "  <thead>\n",
       "    <tr style=\"text-align: right;\">\n",
       "      <th></th>\n",
       "      <th>Item_Weight</th>\n",
       "      <th>Item_Fat_Content</th>\n",
       "      <th>Item_Visibility</th>\n",
       "      <th>Item_Type</th>\n",
       "      <th>Item_MRP</th>\n",
       "      <th>Outlet_Establishment_Year</th>\n",
       "      <th>Outlet_Size</th>\n",
       "      <th>Outlet_Location_Type</th>\n",
       "      <th>Outlet_Type</th>\n",
       "      <th>Item_Outlet_Sales</th>\n",
       "    </tr>\n",
       "  </thead>\n",
       "  <tbody>\n",
       "    <tr>\n",
       "      <th>0</th>\n",
       "      <td>9.300</td>\n",
       "      <td>0</td>\n",
       "      <td>0.016047</td>\n",
       "      <td>0</td>\n",
       "      <td>249.8092</td>\n",
       "      <td>1999</td>\n",
       "      <td>0</td>\n",
       "      <td>0</td>\n",
       "      <td>0</td>\n",
       "      <td>3735.1380</td>\n",
       "    </tr>\n",
       "    <tr>\n",
       "      <th>1</th>\n",
       "      <td>5.920</td>\n",
       "      <td>1</td>\n",
       "      <td>0.019278</td>\n",
       "      <td>1</td>\n",
       "      <td>48.2692</td>\n",
       "      <td>2009</td>\n",
       "      <td>0</td>\n",
       "      <td>1</td>\n",
       "      <td>1</td>\n",
       "      <td>443.4228</td>\n",
       "    </tr>\n",
       "    <tr>\n",
       "      <th>2</th>\n",
       "      <td>17.500</td>\n",
       "      <td>0</td>\n",
       "      <td>0.016760</td>\n",
       "      <td>2</td>\n",
       "      <td>141.6180</td>\n",
       "      <td>1999</td>\n",
       "      <td>0</td>\n",
       "      <td>0</td>\n",
       "      <td>0</td>\n",
       "      <td>2097.2700</td>\n",
       "    </tr>\n",
       "    <tr>\n",
       "      <th>4</th>\n",
       "      <td>8.930</td>\n",
       "      <td>0</td>\n",
       "      <td>0.000000</td>\n",
       "      <td>3</td>\n",
       "      <td>53.8614</td>\n",
       "      <td>1987</td>\n",
       "      <td>1</td>\n",
       "      <td>1</td>\n",
       "      <td>0</td>\n",
       "      <td>994.7052</td>\n",
       "    </tr>\n",
       "    <tr>\n",
       "      <th>5</th>\n",
       "      <td>10.395</td>\n",
       "      <td>1</td>\n",
       "      <td>0.000000</td>\n",
       "      <td>4</td>\n",
       "      <td>51.4008</td>\n",
       "      <td>2009</td>\n",
       "      <td>0</td>\n",
       "      <td>1</td>\n",
       "      <td>1</td>\n",
       "      <td>556.6088</td>\n",
       "    </tr>\n",
       "  </tbody>\n",
       "</table>\n",
       "</div>"
      ],
      "text/plain": [
       "   Item_Weight  Item_Fat_Content  Item_Visibility  Item_Type  Item_MRP  \\\n",
       "0        9.300                 0         0.016047          0  249.8092   \n",
       "1        5.920                 1         0.019278          1   48.2692   \n",
       "2       17.500                 0         0.016760          2  141.6180   \n",
       "4        8.930                 0         0.000000          3   53.8614   \n",
       "5       10.395                 1         0.000000          4   51.4008   \n",
       "\n",
       "   Outlet_Establishment_Year  Outlet_Size  Outlet_Location_Type  Outlet_Type  \\\n",
       "0                       1999            0                     0            0   \n",
       "1                       2009            0                     1            1   \n",
       "2                       1999            0                     0            0   \n",
       "4                       1987            1                     1            0   \n",
       "5                       2009            0                     1            1   \n",
       "\n",
       "   Item_Outlet_Sales  \n",
       "0          3735.1380  \n",
       "1           443.4228  \n",
       "2          2097.2700  \n",
       "4           994.7052  \n",
       "5           556.6088  "
      ]
     },
     "execution_count": 13,
     "metadata": {},
     "output_type": "execute_result"
    }
   ],
   "source": [
    "# First we are generating unique integer values starting from 0 for each of the unique 'object' datatype in that column\n",
    "# Then we are printing these unique keys\n",
    "# Finally we replacing those 'object' values by using 'map()'\n",
    "# It accepts a dictionary of keys and values and it replaces all the keys occuring in that column with its respective value\n",
    "# We are repeating these steps for all the columns containing 'object' datatype\n",
    "# These columns include => 'Item_Fat_Content', 'Item_Type', 'Outlet_Size', 'Outlet_Location_Type', 'Outlet_Type'\n",
    "\n",
    "\n",
    "Item_Fat_Content_Mapping = {data['Item_Fat_Content'].unique()[i]:i for i in range(data['Item_Fat_Content'].nunique())}\n",
    "print(Item_Fat_Content_Mapping, \"\\n\")\n",
    "data['Item_Fat_Content'] = data['Item_Fat_Content'].map(Item_Fat_Content_Mapping)\n",
    "\n",
    "Item_Type_Mapping = {data['Item_Type'].unique()[i]:i for i in range(data['Item_Type'].nunique())}\n",
    "print(Item_Type_Mapping, \"\\n\")\n",
    "data['Item_Type'] = data['Item_Type'].map(Item_Type_Mapping)\n",
    "\n",
    "Outlet_Size_Mapping = {data['Outlet_Size'].unique()[i]:i for i in range(data['Outlet_Size'].nunique())}\n",
    "print(Outlet_Size_Mapping, \"\\n\")\n",
    "data['Outlet_Size'] = data['Outlet_Size'].map(Outlet_Size_Mapping)\n",
    "\n",
    "Outlet_Location_Type_Mapping = {data['Outlet_Location_Type'].unique()[i]:i for i in range(data['Outlet_Location_Type'].nunique())}\n",
    "print(Outlet_Location_Type_Mapping, \"\\n\")\n",
    "data['Outlet_Location_Type'] = data['Outlet_Location_Type'].map(Outlet_Location_Type_Mapping)\n",
    "\n",
    "Outlet_Type_Mapping = {data['Outlet_Type'].unique()[i]:i for i in range(data['Outlet_Type'].nunique())}\n",
    "print(Outlet_Type_Mapping, \"\\n\")\n",
    "data['Outlet_Type'] = data['Outlet_Type'].map(Outlet_Type_Mapping)\n",
    "\n",
    "data.head()  # Printing the top values to ensure that the data was correctly modified"
   ]
  },
  {
   "cell_type": "markdown",
   "id": "39788fc2",
   "metadata": {},
   "source": [
    "***Relationship Analysis***"
   ]
  },
  {
   "cell_type": "code",
   "execution_count": 14,
   "id": "28f2484a",
   "metadata": {},
   "outputs": [],
   "source": [
    "corelation = data.corr()  # Finding relation between various columns"
   ]
  },
  {
   "cell_type": "code",
   "execution_count": 15,
   "id": "a3c007c0",
   "metadata": {},
   "outputs": [
    {
     "data": {
      "text/plain": [
       "<AxesSubplot:>"
      ]
     },
     "execution_count": 15,
     "metadata": {},
     "output_type": "execute_result"
    },
    {
     "data": {
      "image/png": "[encoded data removed]",
      "text/plain": [
       "<Figure size 864x864 with 2 Axes>"
      ]
     },
     "metadata": {
      "needs_background": "light"
     },
     "output_type": "display_data"
    }
   ],
   "source": [
    "fig, ax = plt.subplots(figsize=(12,12))  # \n",
    "sns.heatmap(corelation, annot=True, linewidths=.5, ax=ax)  # It plots the relation between columns on a heatmap\n",
    "# Any cell having value close to 1 means the respective columns have a close relation\n",
    "# Vice versa is true, any cell having value close to -1 means the respective columns do not share a relation with each other\n",
    "# For this reason diagonal cells have value 1, since the respective colums are same"
   ]
  },
  {
   "cell_type": "markdown",
   "id": "820e0070",
   "metadata": {},
   "source": [
    "**From this we can infer that there is a corelation between the Item_MRP and Item_Outlet_Sales and another one between Outlet_Type and Outlet_Establisgment_Year**"
   ]
  },
  {
   "cell_type": "markdown",
   "id": "1fc72d82",
   "metadata": {},
   "source": [
    "## Prediction Model"
   ]
  },
  {
   "cell_type": "markdown",
   "id": "40a4f5eb",
   "metadata": {},
   "source": [
    "**1. Importing the sklearn libraries**"
   ]
  },
  {
   "cell_type": "code",
   "execution_count": 16,
   "id": "22e3fd49",
   "metadata": {},
   "outputs": [],
   "source": [
    "from sklearn.model_selection import train_test_split  # For splitting the data into testing and training data\n",
    "from sklearn.linear_model import LinearRegression  # The model to predict Sales"
   ]
  },
  {
   "cell_type": "markdown",
   "id": "6e3ab873",
   "metadata": {},
   "source": [
    "**2. Splitting the input features and output target**"
   ]
  },
  {
   "cell_type": "code",
   "execution_count": 17,
   "id": "d71ecfd7",
   "metadata": {},
   "outputs": [],
   "source": [
    "# Dropping the sales to create our input features 'X' and storing the same in the 'y' to get Output target\n",
    "X = data.drop(['Item_Outlet_Sales'], axis=1)\n",
    "y = pd.DataFrame(data['Item_Outlet_Sales'])"
   ]
  },
  {
   "cell_type": "code",
   "execution_count": 18,
   "id": "9c3500cb",
   "metadata": {},
   "outputs": [
    {
     "data": {
      "text/html": [
       "<div>\n",
       "<style scoped>\n",
       "    .dataframe tbody tr th:only-of-type {\n",
       "        vertical-align: middle;\n",
       "    }\n",
       "\n",
       "    .dataframe tbody tr th {\n",
       "        vertical-align: top;\n",
       "    }\n",
       "\n",
       "    .dataframe thead th {\n",
       "        text-align: right;\n",
       "    }\n",
       "</style>\n",
       "<table border=\"1\" class=\"dataframe\">\n",
       "  <thead>\n",
       "    <tr style=\"text-align: right;\">\n",
       "      <th></th>\n",
       "      <th>Item_Weight</th>\n",
       "      <th>Item_Fat_Content</th>\n",
       "      <th>Item_Visibility</th>\n",
       "      <th>Item_Type</th>\n",
       "      <th>Item_MRP</th>\n",
       "      <th>Outlet_Establishment_Year</th>\n",
       "      <th>Outlet_Size</th>\n",
       "      <th>Outlet_Location_Type</th>\n",
       "      <th>Outlet_Type</th>\n",
       "    </tr>\n",
       "  </thead>\n",
       "  <tbody>\n",
       "    <tr>\n",
       "      <th>0</th>\n",
       "      <td>9.300</td>\n",
       "      <td>0</td>\n",
       "      <td>0.016047</td>\n",
       "      <td>0</td>\n",
       "      <td>249.8092</td>\n",
       "      <td>1999</td>\n",
       "      <td>0</td>\n",
       "      <td>0</td>\n",
       "      <td>0</td>\n",
       "    </tr>\n",
       "    <tr>\n",
       "      <th>1</th>\n",
       "      <td>5.920</td>\n",
       "      <td>1</td>\n",
       "      <td>0.019278</td>\n",
       "      <td>1</td>\n",
       "      <td>48.2692</td>\n",
       "      <td>2009</td>\n",
       "      <td>0</td>\n",
       "      <td>1</td>\n",
       "      <td>1</td>\n",
       "    </tr>\n",
       "    <tr>\n",
       "      <th>2</th>\n",
       "      <td>17.500</td>\n",
       "      <td>0</td>\n",
       "      <td>0.016760</td>\n",
       "      <td>2</td>\n",
       "      <td>141.6180</td>\n",
       "      <td>1999</td>\n",
       "      <td>0</td>\n",
       "      <td>0</td>\n",
       "      <td>0</td>\n",
       "    </tr>\n",
       "    <tr>\n",
       "      <th>4</th>\n",
       "      <td>8.930</td>\n",
       "      <td>0</td>\n",
       "      <td>0.000000</td>\n",
       "      <td>3</td>\n",
       "      <td>53.8614</td>\n",
       "      <td>1987</td>\n",
       "      <td>1</td>\n",
       "      <td>1</td>\n",
       "      <td>0</td>\n",
       "    </tr>\n",
       "    <tr>\n",
       "      <th>5</th>\n",
       "      <td>10.395</td>\n",
       "      <td>1</td>\n",
       "      <td>0.000000</td>\n",
       "      <td>4</td>\n",
       "      <td>51.4008</td>\n",
       "      <td>2009</td>\n",
       "      <td>0</td>\n",
       "      <td>1</td>\n",
       "      <td>1</td>\n",
       "    </tr>\n",
       "  </tbody>\n",
       "</table>\n",
       "</div>"
      ],
      "text/plain": [
       "   Item_Weight  Item_Fat_Content  Item_Visibility  Item_Type  Item_MRP  \\\n",
       "0        9.300                 0         0.016047          0  249.8092   \n",
       "1        5.920                 1         0.019278          1   48.2692   \n",
       "2       17.500                 0         0.016760          2  141.6180   \n",
       "4        8.930                 0         0.000000          3   53.8614   \n",
       "5       10.395                 1         0.000000          4   51.4008   \n",
       "\n",
       "   Outlet_Establishment_Year  Outlet_Size  Outlet_Location_Type  Outlet_Type  \n",
       "0                       1999            0                     0            0  \n",
       "1                       2009            0                     1            1  \n",
       "2                       1999            0                     0            0  \n",
       "4                       1987            1                     1            0  \n",
       "5                       2009            0                     1            1  "
      ]
     },
     "execution_count": 18,
     "metadata": {},
     "output_type": "execute_result"
    }
   ],
   "source": [
    "X.head()  # Ensuring that Sales was removed the Feature dataset"
   ]
  },
  {
   "cell_type": "code",
   "execution_count": 19,
   "id": "02f452b6",
   "metadata": {},
   "outputs": [
    {
     "data": {
      "text/html": [
       "<div>\n",
       "<style scoped>\n",
       "    .dataframe tbody tr th:only-of-type {\n",
       "        vertical-align: middle;\n",
       "    }\n",
       "\n",
       "    .dataframe tbody tr th {\n",
       "        vertical-align: top;\n",
       "    }\n",
       "\n",
       "    .dataframe thead th {\n",
       "        text-align: right;\n",
       "    }\n",
       "</style>\n",
       "<table border=\"1\" class=\"dataframe\">\n",
       "  <thead>\n",
       "    <tr style=\"text-align: right;\">\n",
       "      <th></th>\n",
       "      <th>Item_Outlet_Sales</th>\n",
       "    </tr>\n",
       "  </thead>\n",
       "  <tbody>\n",
       "    <tr>\n",
       "      <th>0</th>\n",
       "      <td>3735.1380</td>\n",
       "    </tr>\n",
       "    <tr>\n",
       "      <th>1</th>\n",
       "      <td>443.4228</td>\n",
       "    </tr>\n",
       "    <tr>\n",
       "      <th>2</th>\n",
       "      <td>2097.2700</td>\n",
       "    </tr>\n",
       "    <tr>\n",
       "      <th>4</th>\n",
       "      <td>994.7052</td>\n",
       "    </tr>\n",
       "    <tr>\n",
       "      <th>5</th>\n",
       "      <td>556.6088</td>\n",
       "    </tr>\n",
       "  </tbody>\n",
       "</table>\n",
       "</div>"
      ],
      "text/plain": [
       "   Item_Outlet_Sales\n",
       "0          3735.1380\n",
       "1           443.4228\n",
       "2          2097.2700\n",
       "4           994.7052\n",
       "5           556.6088"
      ]
     },
     "execution_count": 19,
     "metadata": {},
     "output_type": "execute_result"
    }
   ],
   "source": [
    "y.head()  # Ensuring that 'y' only contains the target dataset"
   ]
  },
  {
   "cell_type": "markdown",
   "id": "47379cb9",
   "metadata": {},
   "source": [
    "**3. Splitting the data into testing and training data**"
   ]
  },
  {
   "cell_type": "code",
   "execution_count": 20,
   "id": "3ed3f073",
   "metadata": {},
   "outputs": [
    {
     "name": "stdout",
     "output_type": "stream",
     "text": [
      "(3720, 9)\n",
      "(3720, 1)\n",
      "(930, 9)\n",
      "(930, 1)\n"
     ]
    }
   ],
   "source": [
    "test_split_percentage = 0.2  # Percentage of data to be stored for testing\n",
    "X_train, X_test, y_train, y_test = train_test_split(X, y, test_size=test_split_percentage)  \n",
    "# Splitting the data using 'train_test_split()' from sklearn library which returns the training features, testing features, training target and testing target respectively\n",
    "# Printing the shapes\n",
    "print(X_train.shape)\n",
    "print(y_train.shape)\n",
    "print(X_test.shape)\n",
    "print(y_test.shape)"
   ]
  },
  {
   "cell_type": "markdown",
   "id": "29ea9dbb",
   "metadata": {},
   "source": [
    "**4. Fixing the Index of the dataset**"
   ]
  },
  {
   "cell_type": "markdown",
   "id": "0cb69a23",
   "metadata": {},
   "source": [
    "**After the cleaning of the dataset, index of the dataset were mixed.**"
   ]
  },
  {
   "cell_type": "code",
   "execution_count": 21,
   "id": "92b9d82e",
   "metadata": {},
   "outputs": [
    {
     "data": {
      "text/html": [
       "<div>\n",
       "<style scoped>\n",
       "    .dataframe tbody tr th:only-of-type {\n",
       "        vertical-align: middle;\n",
       "    }\n",
       "\n",
       "    .dataframe tbody tr th {\n",
       "        vertical-align: top;\n",
       "    }\n",
       "\n",
       "    .dataframe thead th {\n",
       "        text-align: right;\n",
       "    }\n",
       "</style>\n",
       "<table border=\"1\" class=\"dataframe\">\n",
       "  <thead>\n",
       "    <tr style=\"text-align: right;\">\n",
       "      <th></th>\n",
       "      <th>Item_Weight</th>\n",
       "      <th>Item_Fat_Content</th>\n",
       "      <th>Item_Visibility</th>\n",
       "      <th>Item_Type</th>\n",
       "      <th>Item_MRP</th>\n",
       "      <th>Outlet_Establishment_Year</th>\n",
       "      <th>Outlet_Size</th>\n",
       "      <th>Outlet_Location_Type</th>\n",
       "      <th>Outlet_Type</th>\n",
       "    </tr>\n",
       "  </thead>\n",
       "  <tbody>\n",
       "    <tr>\n",
       "      <th>7402</th>\n",
       "      <td>6.115</td>\n",
       "      <td>1</td>\n",
       "      <td>0.011419</td>\n",
       "      <td>9</td>\n",
       "      <td>91.0488</td>\n",
       "      <td>2009</td>\n",
       "      <td>0</td>\n",
       "      <td>1</td>\n",
       "      <td>1</td>\n",
       "    </tr>\n",
       "    <tr>\n",
       "      <th>3492</th>\n",
       "      <td>17.350</td>\n",
       "      <td>1</td>\n",
       "      <td>0.146300</td>\n",
       "      <td>15</td>\n",
       "      <td>150.4050</td>\n",
       "      <td>1997</td>\n",
       "      <td>2</td>\n",
       "      <td>0</td>\n",
       "      <td>0</td>\n",
       "    </tr>\n",
       "    <tr>\n",
       "      <th>647</th>\n",
       "      <td>5.655</td>\n",
       "      <td>0</td>\n",
       "      <td>0.175352</td>\n",
       "      <td>1</td>\n",
       "      <td>147.4102</td>\n",
       "      <td>1999</td>\n",
       "      <td>0</td>\n",
       "      <td>0</td>\n",
       "      <td>0</td>\n",
       "    </tr>\n",
       "    <tr>\n",
       "      <th>4919</th>\n",
       "      <td>9.100</td>\n",
       "      <td>0</td>\n",
       "      <td>0.055515</td>\n",
       "      <td>3</td>\n",
       "      <td>112.5518</td>\n",
       "      <td>1999</td>\n",
       "      <td>0</td>\n",
       "      <td>0</td>\n",
       "      <td>0</td>\n",
       "    </tr>\n",
       "    <tr>\n",
       "      <th>5074</th>\n",
       "      <td>17.500</td>\n",
       "      <td>0</td>\n",
       "      <td>0.016802</td>\n",
       "      <td>2</td>\n",
       "      <td>138.5180</td>\n",
       "      <td>2009</td>\n",
       "      <td>0</td>\n",
       "      <td>1</td>\n",
       "      <td>1</td>\n",
       "    </tr>\n",
       "  </tbody>\n",
       "</table>\n",
       "</div>"
      ],
      "text/plain": [
       "      Item_Weight  Item_Fat_Content  Item_Visibility  Item_Type  Item_MRP  \\\n",
       "7402        6.115                 1         0.011419          9   91.0488   \n",
       "3492       17.350                 1         0.146300         15  150.4050   \n",
       "647         5.655                 0         0.175352          1  147.4102   \n",
       "4919        9.100                 0         0.055515          3  112.5518   \n",
       "5074       17.500                 0         0.016802          2  138.5180   \n",
       "\n",
       "      Outlet_Establishment_Year  Outlet_Size  Outlet_Location_Type  \\\n",
       "7402                       2009            0                     1   \n",
       "3492                       1997            2                     0   \n",
       "647                        1999            0                     0   \n",
       "4919                       1999            0                     0   \n",
       "5074                       2009            0                     1   \n",
       "\n",
       "      Outlet_Type  \n",
       "7402            1  \n",
       "3492            0  \n",
       "647             0  \n",
       "4919            0  \n",
       "5074            1  "
      ]
     },
     "execution_count": 21,
     "metadata": {},
     "output_type": "execute_result"
    }
   ],
   "source": [
    "X_train.head()"
   ]
  },
  {
   "cell_type": "code",
   "execution_count": 22,
   "id": "b8bb0c2a",
   "metadata": {},
   "outputs": [
    {
     "data": {
      "text/html": [
       "<div>\n",
       "<style scoped>\n",
       "    .dataframe tbody tr th:only-of-type {\n",
       "        vertical-align: middle;\n",
       "    }\n",
       "\n",
       "    .dataframe tbody tr th {\n",
       "        vertical-align: top;\n",
       "    }\n",
       "\n",
       "    .dataframe thead th {\n",
       "        text-align: right;\n",
       "    }\n",
       "</style>\n",
       "<table border=\"1\" class=\"dataframe\">\n",
       "  <thead>\n",
       "    <tr style=\"text-align: right;\">\n",
       "      <th></th>\n",
       "      <th>Item_Outlet_Sales</th>\n",
       "    </tr>\n",
       "  </thead>\n",
       "  <tbody>\n",
       "    <tr>\n",
       "      <th>7402</th>\n",
       "      <td>1629.8784</td>\n",
       "    </tr>\n",
       "    <tr>\n",
       "      <th>3492</th>\n",
       "      <td>3894.9300</td>\n",
       "    </tr>\n",
       "    <tr>\n",
       "      <th>647</th>\n",
       "      <td>2478.7734</td>\n",
       "    </tr>\n",
       "    <tr>\n",
       "      <th>4919</th>\n",
       "      <td>341.5554</td>\n",
       "    </tr>\n",
       "    <tr>\n",
       "      <th>5074</th>\n",
       "      <td>2376.9060</td>\n",
       "    </tr>\n",
       "  </tbody>\n",
       "</table>\n",
       "</div>"
      ],
      "text/plain": [
       "      Item_Outlet_Sales\n",
       "7402          1629.8784\n",
       "3492          3894.9300\n",
       "647           2478.7734\n",
       "4919           341.5554\n",
       "5074          2376.9060"
      ]
     },
     "execution_count": 22,
     "metadata": {},
     "output_type": "execute_result"
    }
   ],
   "source": [
    "y_train.head()"
   ]
  },
  {
   "cell_type": "markdown",
   "id": "20c4d72a",
   "metadata": {},
   "source": [
    "**The index of the dataset are not in a regular patter as infered from above. The same is also true for testing data. So assingning each row a new index starting from 0 till the number of rows**"
   ]
  },
  {
   "cell_type": "code",
   "execution_count": 23,
   "id": "be7b72e6",
   "metadata": {},
   "outputs": [],
   "source": [
    "X_train.index = range(0, X_train.shape[0])\n",
    "y_train.index = range(0, y_train.shape[0])\n",
    "X_test.index = range(0, X_test.shape[0])\n",
    "y_test.index = range(0, y_test.shape[0])\n",
    "# Assigning X_train, y_train, X_test, y_test with new indexes using the range function from 0 till the number of rows\n",
    "# Number of rows is obtained by accessing the first element of the shape of the respective dataset"
   ]
  },
  {
   "cell_type": "code",
   "execution_count": 24,
   "id": "74e0a42d",
   "metadata": {},
   "outputs": [
    {
     "data": {
      "text/html": [
       "<div>\n",
       "<style scoped>\n",
       "    .dataframe tbody tr th:only-of-type {\n",
       "        vertical-align: middle;\n",
       "    }\n",
       "\n",
       "    .dataframe tbody tr th {\n",
       "        vertical-align: top;\n",
       "    }\n",
       "\n",
       "    .dataframe thead th {\n",
       "        text-align: right;\n",
       "    }\n",
       "</style>\n",
       "<table border=\"1\" class=\"dataframe\">\n",
       "  <thead>\n",
       "    <tr style=\"text-align: right;\">\n",
       "      <th></th>\n",
       "      <th>Item_Weight</th>\n",
       "      <th>Item_Fat_Content</th>\n",
       "      <th>Item_Visibility</th>\n",
       "      <th>Item_Type</th>\n",
       "      <th>Item_MRP</th>\n",
       "      <th>Outlet_Establishment_Year</th>\n",
       "      <th>Outlet_Size</th>\n",
       "      <th>Outlet_Location_Type</th>\n",
       "      <th>Outlet_Type</th>\n",
       "    </tr>\n",
       "  </thead>\n",
       "  <tbody>\n",
       "    <tr>\n",
       "      <th>0</th>\n",
       "      <td>6.115</td>\n",
       "      <td>1</td>\n",
       "      <td>0.011419</td>\n",
       "      <td>9</td>\n",
       "      <td>91.0488</td>\n",
       "      <td>2009</td>\n",
       "      <td>0</td>\n",
       "      <td>1</td>\n",
       "      <td>1</td>\n",
       "    </tr>\n",
       "    <tr>\n",
       "      <th>1</th>\n",
       "      <td>17.350</td>\n",
       "      <td>1</td>\n",
       "      <td>0.146300</td>\n",
       "      <td>15</td>\n",
       "      <td>150.4050</td>\n",
       "      <td>1997</td>\n",
       "      <td>2</td>\n",
       "      <td>0</td>\n",
       "      <td>0</td>\n",
       "    </tr>\n",
       "    <tr>\n",
       "      <th>2</th>\n",
       "      <td>5.655</td>\n",
       "      <td>0</td>\n",
       "      <td>0.175352</td>\n",
       "      <td>1</td>\n",
       "      <td>147.4102</td>\n",
       "      <td>1999</td>\n",
       "      <td>0</td>\n",
       "      <td>0</td>\n",
       "      <td>0</td>\n",
       "    </tr>\n",
       "    <tr>\n",
       "      <th>3</th>\n",
       "      <td>9.100</td>\n",
       "      <td>0</td>\n",
       "      <td>0.055515</td>\n",
       "      <td>3</td>\n",
       "      <td>112.5518</td>\n",
       "      <td>1999</td>\n",
       "      <td>0</td>\n",
       "      <td>0</td>\n",
       "      <td>0</td>\n",
       "    </tr>\n",
       "    <tr>\n",
       "      <th>4</th>\n",
       "      <td>17.500</td>\n",
       "      <td>0</td>\n",
       "      <td>0.016802</td>\n",
       "      <td>2</td>\n",
       "      <td>138.5180</td>\n",
       "      <td>2009</td>\n",
       "      <td>0</td>\n",
       "      <td>1</td>\n",
       "      <td>1</td>\n",
       "    </tr>\n",
       "  </tbody>\n",
       "</table>\n",
       "</div>"
      ],
      "text/plain": [
       "   Item_Weight  Item_Fat_Content  Item_Visibility  Item_Type  Item_MRP  \\\n",
       "0        6.115                 1         0.011419          9   91.0488   \n",
       "1       17.350                 1         0.146300         15  150.4050   \n",
       "2        5.655                 0         0.175352          1  147.4102   \n",
       "3        9.100                 0         0.055515          3  112.5518   \n",
       "4       17.500                 0         0.016802          2  138.5180   \n",
       "\n",
       "   Outlet_Establishment_Year  Outlet_Size  Outlet_Location_Type  Outlet_Type  \n",
       "0                       2009            0                     1            1  \n",
       "1                       1997            2                     0            0  \n",
       "2                       1999            0                     0            0  \n",
       "3                       1999            0                     0            0  \n",
       "4                       2009            0                     1            1  "
      ]
     },
     "execution_count": 24,
     "metadata": {},
     "output_type": "execute_result"
    }
   ],
   "source": [
    "X_train.head()  # Ensuring the dataset was modified"
   ]
  },
  {
   "cell_type": "markdown",
   "id": "37336b47",
   "metadata": {},
   "source": [
    "**5. Creating the model using Linear Regression**"
   ]
  },
  {
   "cell_type": "code",
   "execution_count": 25,
   "id": "2d30776b",
   "metadata": {},
   "outputs": [
    {
     "name": "stdout",
     "output_type": "stream",
     "text": [
      "[[2640.75966716]\n",
      " [2551.97984877]\n",
      " [2862.38073568]\n",
      " [3062.05762163]\n",
      " [4272.4281543 ]] \n",
      "\n",
      "   Item_Outlet_Sales\n",
      "0          1422.1488\n",
      "1          2471.4496\n",
      "2           535.3032\n",
      "3          2101.9306\n",
      "4          1845.5976\n"
     ]
    }
   ],
   "source": [
    "lreg = LinearRegression()  # Creating an instance of Linear Regression Model in 'lreg'\n",
    "lreg.fit(X_train, y_train)  # Passing the training features and target for the model to train\n",
    "Y_pred = lreg.predict(X_test)  # Testing the Model's prediction on the testing features and storing the result in 'Y_pred'\n",
    "print(Y_pred[0:5], \"\\n\")  # Printing a few predicited values\n",
    "print(y_test[0:5])  # Printing the respective actual values"
   ]
  },
  {
   "cell_type": "markdown",
   "id": "87fdd89f",
   "metadata": {},
   "source": [
    "**6. Calculating the accuracy of the model**"
   ]
  },
  {
   "cell_type": "code",
   "execution_count": 26,
   "id": "8b856398",
   "metadata": {},
   "outputs": [
    {
     "name": "stdout",
     "output_type": "stream",
     "text": [
      "[39.93841402]\n"
     ]
    }
   ],
   "source": [
    "orig_y = np.array(y_test)  # Converting the testing target DataFrame into numpy array for easy calculation\n",
    "error = 0\n",
    "for i in range(len(orig_y)):\n",
    "    error += abs(orig_y[i]-Y_pred[i])/orig_y[i]  # Calculation the error\n",
    "error = error * 100 / len(orig_y)  # Calculating the average error percentage\n",
    "accuracy = 100 - error  # Accuracy is equal to 100% - percentage of error\n",
    "print(accuracy)"
   ]
  }
 ],
 "metadata": {
  "kernelspec": {
   "display_name": "Python 3 (ipykernel)",
   "language": "python",
   "name": "python3"
  },
  "language_info": {
   "codemirror_mode": {
    "name": "ipython",
    "version": 3
   },
   "file_extension": ".py",
   "mimetype": "text/x-python",
   "name": "python",
   "nbconvert_exporter": "python",
   "pygments_lexer": "ipython3",
   "version": "3.9.4"
  }
 },
 "nbformat": 4,
 "nbformat_minor": 5
}
